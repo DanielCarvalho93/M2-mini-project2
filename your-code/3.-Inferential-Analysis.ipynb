{
 "cells": [
  {
   "cell_type": "markdown",
   "metadata": {},
   "source": [
    "# Inferential statistics\n",
    "## Part III - Inferential Analysis\n",
    "\n",
    "We're now going to look for answers to the ongoing basketball discussions between you and your family. The main ones we want to reasearch are the following:\n",
    "\n",
    "- Your grandmother says that your sister couldn't play in a professional basketball league (not only the WNBA, but ANY professional basketball league) because she's too skinny and lacks muscle.\n",
    "- Your sister says that most female professional players fail their free throws.\n",
    "- Your brother-in-law heard on the TV that the average assists among NBA (male) and WNBA (female) players is 52 for the 2016-2017 season. He is convinced this average would be higher if we only considered the players from the WNBA.\n",
    "\n",
    "Let's investigate these claims and see if we can find proof to refute or support them.\n",
    "\n",
    "### Libraries\n",
    "Import the necessary libraries first."
   ]
  },
  {
   "cell_type": "code",
   "execution_count": 8,
   "metadata": {},
   "outputs": [],
   "source": [
    "# Libraries\n",
    "import math\n",
    "import pandas as pd\n",
    "import numpy as np\n",
    "from scipy import stats\n",
    "import matplotlib.pyplot as plt\n",
    "import seaborn as sns\n",
    "from scipy.stats import ttest_1samp\n",
    "pd.set_option('display.max_columns', 50)\n",
    "import scipy.stats as st"
   ]
  },
  {
   "cell_type": "markdown",
   "metadata": {},
   "source": [
    "### Load the dataset\n",
    "\n",
    "Load the cleaned dataset."
   ]
  },
  {
   "cell_type": "code",
   "execution_count": 3,
   "metadata": {},
   "outputs": [],
   "source": [
    "#your code here\n",
    "wnba = pd.read_csv(r'C:\\Users\\Daniel Carvalho\\Desktop\\DataAnalysis\\WEEK5\\DAY2\\labs\\M2-mini-project2\\data\\wnba_clean.csv')"
   ]
  },
  {
   "cell_type": "markdown",
   "metadata": {},
   "source": [
    "# Question 1: Can my sister play in a professional female basketball league?\n",
    "\n",
    "As we said, you grandmother is convinced that your sister couldn't play in a professional league because of her physique and weight (her weight is 67kg). \n",
    "\n",
    "To find an actual answer to the question we first need to know what's the average weight of a professional female basketball player. The data we have only refers to the WNBA league and not to every female professional basketball league in the world, therefore we have no way of actually calculating it.\n",
    "\n",
    "Still, given that we do have *some* data we can **infer** it using a sample of players like the one we have. \n",
    "\n",
    "**How would you do it? Try and think about the requirements that your sample must satisfy in order to be used to infer the average weight. Do you feel it actually fulfills those requirements? Do you need to make any assumptions? We could calculate a confidence interval to do the inference, but do you know any other ways?**"
   ]
  },
  {
   "cell_type": "code",
   "execution_count": 5,
   "metadata": {},
   "outputs": [
    {
     "data": {
      "image/png": "[encoded data removed]",
      "text/plain": [
       "<Figure size 432x288 with 1 Axes>"
      ]
     },
     "metadata": {
      "needs_background": "light"
     },
     "output_type": "display_data"
    },
    {
     "name": "stdout",
     "output_type": "stream",
     "text": [
      "THE MEAN OF MY POPULATION, THE PARAMETER OF MY POPULATION IS 78.97887323943662\n",
      "THE MEAN OF MY SAMPLING DISTRIBUTION IS 78.99404000000001\n"
     ]
    }
   ],
   "source": [
    "# your answer here\n",
    "dist_of_means = []\n",
    "\n",
    "for i in range(1000):\n",
    "    pop_sample = np.random.choice(wnba['Weight'],10) \n",
    "    mean_sample = np.mean(pop_sample)\n",
    "    dist_of_means.append(mean_sample)\n",
    "\n",
    "plt.hist(dist_of_means)\n",
    "\n",
    "dist_of_means = []\n",
    "\n",
    "for i in range(1000):\n",
    "    pop_sample = np.random.choice(wnba['Weight'],100) \n",
    "    mean_sample = np.mean(pop_sample)\n",
    "    dist_of_means.append(mean_sample)\n",
    "\n",
    "plt.hist(dist_of_means)\n",
    "\n",
    "plt.show()\n",
    "\n",
    "mu = np.mean(wnba['Weight'])\n",
    "\n",
    "print('THE MEAN OF MY POPULATION, THE PARAMETER OF MY POPULATION IS', mu)\n",
    "\n",
    "x_hat = np.mean(dist_of_means)\n",
    "print('THE MEAN OF MY SAMPLING DISTRIBUTION IS', x_hat)\n",
    "\n",
    "\n",
    "## WE NOW HAVE A BETTER IDEA WITH THIS SAMPLE AND CAN TAKE AWAY AND UNDERSTAND BETTER THE AVERAGE WEIGHT FOR A BASKETBALL PLAYER"
   ]
  },
  {
   "cell_type": "markdown",
   "metadata": {},
   "source": [
    "**Now that all the requirements have been taken into account, compute the confidence interval of the average weight with a confidence level of 95%.**"
   ]
  },
  {
   "cell_type": "code",
   "execution_count": 10,
   "metadata": {},
   "outputs": [
    {
     "data": {
      "text/plain": [
       "(73.68127733557415, 77.97646914329906)"
      ]
     },
     "execution_count": 10,
     "metadata": {},
     "output_type": "execute_result"
    }
   ],
   "source": [
    "# your code here\n",
    "sigma = wnba['Weight'].std(ddof=0)\n",
    "st.norm.interval(0.95, loc=mu, scale=sigma/np.sqrt(100))"
   ]
  },
  {
   "cell_type": "markdown",
   "metadata": {},
   "source": [
    "**What can you say about these results?**"
   ]
  },
  {
   "cell_type": "code",
   "execution_count": 11,
   "metadata": {},
   "outputs": [],
   "source": [
    "#your-answer-here\n",
    "\n",
    "## THE CONFIDENCE INTERVAL IS LOWER THEN THE MEAN OF OUR SAMPLING DISTRIBUTION AND POPULATION SO IT DID NOT CATCH THE MEAN"
   ]
  },
  {
   "cell_type": "markdown",
   "metadata": {},
   "source": [
    "**If your sister weighs 67kg what would you tell your grandmother in regards to her assumption?**"
   ]
  },
  {
   "cell_type": "code",
   "execution_count": 9,
   "metadata": {},
   "outputs": [],
   "source": [
    "#your-answer-here\n",
    "\n",
    "## i WOULD TELL HER SHE IS QUITE BELOW THE AVERAGE WEIGHT FOR AN WNBA PLAYER"
   ]
  },
  {
   "cell_type": "markdown",
   "metadata": {},
   "source": [
    "## Bonus: Can you plot the probability distribution of the average weight, indicating where the critical region is?"
   ]
  },
  {
   "cell_type": "code",
   "execution_count": 8,
   "metadata": {},
   "outputs": [],
   "source": [
    "# your code here"
   ]
  },
  {
   "cell_type": "markdown",
   "metadata": {},
   "source": [
    "# Question 2: Do female professional basketball players fail the majority of their free throws?\n",
    "\n",
    "You do not agree with your sister when she says that most female players fail their free throws. You decide to try and estimate the percentage of players that fail more than 40% of their free throws using, you guessed it, the WNBA sample.\n",
    "\n",
    "**How would you do it? Try and think about the requirements that your sample must satisfy in order to be used to infer the proportion of players that miss more than 40% of their free throws. Do you feel it actually fulfills those requirements? Do you need to make any assumptions?**"
   ]
  },
  {
   "cell_type": "code",
   "execution_count": 14,
   "metadata": {},
   "outputs": [],
   "source": [
    "wnba_over40 = wnba['FT%'] > 40.0"
   ]
  },
  {
   "cell_type": "code",
   "execution_count": 15,
   "metadata": {},
   "outputs": [
    {
     "data": {
      "image/png": "[encoded data removed]",
      "text/plain": [
       "<Figure size 432x288 with 1 Axes>"
      ]
     },
     "metadata": {
      "needs_background": "light"
     },
     "output_type": "display_data"
    },
    {
     "name": "stdout",
     "output_type": "stream",
     "text": [
      "THE MEAN OF MY POPULATION, THE PARAMETER OF MY POPULATION IS 0.9577464788732394\n",
      "THE MEAN OF MY SAMPLING DISTRIBUTION IS 0.95799\n"
     ]
    }
   ],
   "source": [
    "# your answer here\n",
    "dist_of_means = []\n",
    "\n",
    "for i in range(1000):\n",
    "    pop_sample = np.random.choice(wnba_over40,10) \n",
    "    mean_sample = np.mean(pop_sample)\n",
    "    dist_of_means.append(mean_sample)\n",
    "\n",
    "plt.hist(dist_of_means)\n",
    "\n",
    "dist_of_means = []\n",
    "\n",
    "for i in range(1000):\n",
    "    pop_sample = np.random.choice(wnba_over40,100) \n",
    "    mean_sample = np.mean(pop_sample)\n",
    "    dist_of_means.append(mean_sample)\n",
    "\n",
    "plt.hist(dist_of_means)\n",
    "\n",
    "plt.show()\n",
    "\n",
    "mu = np.mean(wnba_over40)\n",
    "\n",
    "print('THE MEAN OF MY POPULATION, THE PARAMETER OF MY POPULATION IS', mu)\n",
    "\n",
    "x_hat = np.mean(dist_of_means)\n",
    "print('THE MEAN OF MY SAMPLING DISTRIBUTION IS', x_hat)"
   ]
  },
  {
   "cell_type": "markdown",
   "metadata": {},
   "source": [
    "**Now that all the requirements have been taken into account, compute the confidence interval of the proportion with a confidence level of 95%:**"
   ]
  },
  {
   "cell_type": "code",
   "execution_count": 16,
   "metadata": {},
   "outputs": [
    {
     "data": {
      "text/plain": [
       "(0.9183184717799592, 0.9971744859665196)"
      ]
     },
     "execution_count": 16,
     "metadata": {},
     "output_type": "execute_result"
    }
   ],
   "source": [
    "# your code here\n",
    "sigma = wnba_over40.std(ddof=0)\n",
    "st.norm.interval(0.95, loc=mu, scale=sigma/np.sqrt(100))"
   ]
  },
  {
   "cell_type": "markdown",
   "metadata": {},
   "source": [
    "**What can you comment about our result? What would you tell your sister?**"
   ]
  },
  {
   "cell_type": "code",
   "execution_count": 15,
   "metadata": {},
   "outputs": [],
   "source": [
    "#your-answer-here\n",
    "\n",
    "## THIS TIME WE DID CATCH THE MEAN AND I TELL HER THAT ..."
   ]
  },
  {
   "cell_type": "markdown",
   "metadata": {},
   "source": [
    "# Bonus: Can you plot the probability distribution of the proportion of missed free throws, indicating where the critical region is?"
   ]
  },
  {
   "cell_type": "code",
   "execution_count": null,
   "metadata": {},
   "outputs": [],
   "source": [
    "#your code here"
   ]
  },
  {
   "cell_type": "markdown",
   "metadata": {},
   "source": [
    "# Question 3: Is the average number of assists for WNBA players only higher than the average for WNBA and NBA players together?"
   ]
  },
  {
   "cell_type": "markdown",
   "metadata": {},
   "source": [
    "Your brother-in-law is convinced that the average assists for female professional players is higher than the average of both female and male players combined (which is 52 for the 2016-2017 season). You would like to actually prove if this is true or not but you remember your stats teacher saying \"you can't *prove* anything, you just can say that *you are not* saying foolishness\".\n",
    "\n",
    "**How would you do it? Try and think about the requirements that your sample must satisfy in order to do that. Do you feel it actually fulfills those requirements? Do you need to make any assumptions?**"
   ]
  },
  {
   "cell_type": "code",
   "execution_count": 18,
   "metadata": {},
   "outputs": [
    {
     "data": {
      "image/png": "[encoded data removed]",
      "text/plain": [
       "<Figure size 432x288 with 1 Axes>"
      ]
     },
     "metadata": {
      "needs_background": "light"
     },
     "output_type": "display_data"
    },
    {
     "name": "stdout",
     "output_type": "stream",
     "text": [
      "THE MEAN OF MY POPULATION, THE PARAMETER OF MY POPULATION IS 44.514084507042256\n",
      "THE MEAN OF MY SAMPLING DISTRIBUTION IS 44.65614\n"
     ]
    }
   ],
   "source": [
    "#your-answer-here\n",
    "dist_of_means = []\n",
    "\n",
    "for i in range(1000):\n",
    "    pop_sample = np.random.choice(wnba['AST'],10) \n",
    "    mean_sample = np.mean(pop_sample)\n",
    "    dist_of_means.append(mean_sample)\n",
    "\n",
    "plt.hist(dist_of_means)\n",
    "\n",
    "dist_of_means = []\n",
    "\n",
    "for i in range(1000):\n",
    "    pop_sample = np.random.choice(wnba['AST'],100) \n",
    "    mean_sample = np.mean(pop_sample)\n",
    "    dist_of_means.append(mean_sample)\n",
    "\n",
    "plt.hist(dist_of_means)\n",
    "\n",
    "plt.show()\n",
    "\n",
    "mu = np.mean(wnba['AST'])\n",
    "\n",
    "print('THE MEAN OF MY POPULATION, THE PARAMETER OF MY POPULATION IS', mu)\n",
    "\n",
    "x_hat = np.mean(dist_of_means)\n",
    "print('THE MEAN OF MY SAMPLING DISTRIBUTION IS', x_hat)"
   ]
  },
  {
   "cell_type": "markdown",
   "metadata": {},
   "source": [
    "**Use a two-tailed one-sample t-test to see if we can reject (or not) the null hypothesis with a 95% confidence level.**"
   ]
  },
  {
   "cell_type": "code",
   "execution_count": 20,
   "metadata": {},
   "outputs": [
    {
     "data": {
      "text/plain": [
       "(37.63074571244354, 51.39742330164097)"
      ]
     },
     "execution_count": 20,
     "metadata": {},
     "output_type": "execute_result"
    }
   ],
   "source": [
    "#your code here\n",
    "wnba['AST']\n",
    "mean_ = wnba['AST'].mean()\n",
    "s = wnba['AST'].std(ddof=1)\n",
    "n = len(wnba['AST'])\n",
    "\n",
    "st.t.interval(0.95,n-1,loc=mean_,scale= s/np.sqrt(n))"
   ]
  },
  {
   "cell_type": "code",
   "execution_count": 18,
   "metadata": {},
   "outputs": [],
   "source": [
    "#your-answer-here"
   ]
  },
  {
   "cell_type": "markdown",
   "metadata": {},
   "source": [
    "**Now use a one-tailed one-sample t-test to see if we can reject (or not) the null hypothesis with a 95% confidence level.**"
   ]
  },
  {
   "cell_type": "code",
   "execution_count": 20,
   "metadata": {},
   "outputs": [],
   "source": [
    "#your-answer-here"
   ]
  },
  {
   "cell_type": "markdown",
   "metadata": {},
   "source": [
    "# Bonus: Can you plot the resulting t-distribution of both tests? Indicate where the is the critical region and where does your statistic fall.**"
   ]
  },
  {
   "cell_type": "code",
   "execution_count": null,
   "metadata": {},
   "outputs": [],
   "source": [
    "#your code here"
   ]
  },
  {
   "cell_type": "markdown",
   "metadata": {},
   "source": [
    "# Bonus: Satisfying your curiosity\n",
    "\n",
    "You finally managed to solve your family's debates over basketball! While you were doing that you started to take an interest in the normal distribution.\n",
    "\n",
    "You read that the normal distribution is present in a lot of natural phenomenons, like blood pressure, IQ, weight and height. If, for example, we could plot the distribution of the weights of every human on the planet right now it would have the shape of a normal distribution.\n",
    "\n",
    "In light of this you would like to see if it's possible to check if the distribution of the weights of the WNBA players is a sample distribution that comes from a population that has a normal distribution, because theoretically this should be the case.\n",
    "\n",
    "**How would you try to demonstrate that our sample fits a normal distribution? What kind of test would you use? Would you have to make any assumptions?**"
   ]
  },
  {
   "cell_type": "code",
   "execution_count": 22,
   "metadata": {},
   "outputs": [],
   "source": [
    "#your-answer-here"
   ]
  },
  {
   "cell_type": "code",
   "execution_count": 19,
   "metadata": {},
   "outputs": [],
   "source": [
    "# your code here"
   ]
  },
  {
   "cell_type": "markdown",
   "metadata": {},
   "source": [
    "**What are your comments in regards to the results of the test?**"
   ]
  },
  {
   "cell_type": "code",
   "execution_count": 24,
   "metadata": {},
   "outputs": [],
   "source": [
    "#your-answer-here"
   ]
  }
 ],
 "metadata": {
  "kernelspec": {
   "display_name": "Python 3.9.13 ('Classes')",
   "language": "python",
   "name": "python3"
  },
  "language_info": {
   "codemirror_mode": {
    "name": "ipython",
    "version": 3
   },
   "file_extension": ".py",
   "mimetype": "text/x-python",
   "name": "python",
   "nbconvert_exporter": "python",
   "pygments_lexer": "ipython3",
   "version": "3.9.13"
  },
  "vscode": {
   "interpreter": {
    "hash": "b56b83a77b69817771c5ed78805d5acb0dbb6e361a4327e0e70027e0f158efcf"
   }
  }
 },
 "nbformat": 4,
 "nbformat_minor": 2
}
